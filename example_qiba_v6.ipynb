{
 "cells": [
  {
   "cell_type": "markdown",
   "metadata": {},
   "source": [
    "## 0. Parameters and Initialization ##"
   ]
  },
  {
   "cell_type": "code",
   "execution_count": 1,
   "metadata": {},
   "outputs": [
    {
     "name": "stdout",
     "output_type": "stream",
     "text": [
      "Using matplotlib backend: TkAgg\n",
      "Populating the interactive namespace from numpy and matplotlib\n"
     ]
    }
   ],
   "source": [
    "%matplotlib inline  \n",
    "%pylab\n",
    "%matplotlib inline  \n"
   ]
  },
  {
   "cell_type": "code",
   "execution_count": 2,
   "metadata": {},
   "outputs": [
    {
     "name": "stderr",
     "output_type": "stream",
     "text": [
      "/usr/local/lib/python3.6/dist-packages/dicom/__init__.py:53: UserWarning: \n",
      "This code is using an older version of pydicom, which is no longer \n",
      "maintained as of Jan 2017.  You can access the new pydicom features and API \n",
      "by installing `pydicom` from PyPI.\n",
      "See 'Transitioning to pydicom 1.x' section at pydicom.readthedocs.org \n",
      "for more information.\n",
      "\n",
      "  warnings.warn(msg)\n"
     ]
    }
   ],
   "source": [
    "from scipy.io import loadmat, savemat\n",
    "from util import mosaic, status_check\n",
    "import matplotlib.pyplot as plt\n",
    "from numpy.ma import masked_array\n",
    "from skimage.filters import threshold_otsu\n",
    "import time\n",
    "import dcemri\n",
    "import dicom\n",
    "\n",
    "\n",
    "# SCRIPT FLAGS\n",
    "plotting = True\n",
    "Rel = 4.5   # Relaxivity of Gd-DTPA at 3 T [s^-1 [mmol Gd-DTPA]^{-1}]   \n",
    "flip_angle = 30 * pi / 180.0 # rad\n",
    "TR = 5e-3   # sec\n",
    "nx = 80\n",
    "ny = 50\n",
    "nt = 1321\n",
    "\n",
    "data_dir = 'qiba/v6'\n",
    "file_ext = 'QIBA_v06_Tofts_beta1'"
   ]
  },
  {
   "cell_type": "code",
   "execution_count": 3,
   "metadata": {},
   "outputs": [],
   "source": [
    "# add cubehelix3 color map\n",
    "mpl.cm.register_cmap(name='cubehelix3', data=mpl._cm.cubehelix(gamma=1.0, s=0.4, r=-0.5, h=1.5))"
   ]
  },
  {
   "cell_type": "markdown",
   "metadata": {},
   "source": [
    "## 1. Load data ##"
   ]
  },
  {
   "cell_type": "code",
   "execution_count": 4,
   "metadata": {},
   "outputs": [],
   "source": [
    "data_dicom = zeros((nt, nx, ny))\n",
    "T1map = ones((nx, ny)) # s\n",
    "\n",
    "t = 0.5*arange(nt)  # ms\n",
    "\n",
    "for k in range(nt):\n",
    "    file_name = '%s/%s_%04d.dcm' % (data_dir, file_ext, k+1)\n",
    "    dcm = dicom.read_file(file_name)\n",
    "    data_dicom[k,:,:] = dcm.pixel_array.astype('float')\n",
    "    #print k, dcm.pixel_array.shape, file_name\n",
    "    \n",
    "data_dce = data_dicom[:,10:70,:]\n",
    "nt, nx, ny = data_dce.shape\n",
    "S0map = ones((nx, ny)) * 50000.0 #\n",
    "data_aif = mean(mean(data_dicom[:,70:,:], axis=2), axis=1)"
   ]
  },
  {
   "cell_type": "code",
   "execution_count": 5,
   "metadata": {},
   "outputs": [],
   "source": [
    "# subsample data to speed up the run\n",
    "deltat = 2\n",
    "data_dce = data_dce[::deltat,:,:]\n",
    "data_aif = data_aif[::deltat]   # TODO: do this better\n",
    "t = t[::deltat]\n",
    "nt = len(t)"
   ]
  },
  {
   "cell_type": "code",
   "execution_count": 6,
   "metadata": {},
   "outputs": [
    {
     "data": {
      "text/plain": [
       "<matplotlib.image.AxesImage at 0x7fe797206780>"
      ]
     },
     "execution_count": 6,
     "metadata": {},
     "output_type": "execute_result"
    },
    {
     "data": {
      "image/png": "[encoded data removed]",
      "text/plain": [
       "<matplotlib.figure.Figure at 0x7fe7d7b3b320>"
      ]
     },
     "metadata": {},
     "output_type": "display_data"
    }
   ],
   "source": [
    "imshow(data_dce[:,:,:].max(axis=0), interpolation='nearest')"
   ]
  },
  {
   "cell_type": "code",
   "execution_count": 7,
   "metadata": {},
   "outputs": [
    {
     "data": {
      "text/plain": [
       "Text(0.5,1,'example tissue signal curve')"
      ]
     },
     "execution_count": 7,
     "metadata": {},
     "output_type": "execute_result"
    },
    {
     "data": {
      "image/png": "[encoded data removed]",
      "text/plain": [
       "<matplotlib.figure.Figure at 0x7fe7ab740550>"
      ]
     },
     "metadata": {},
     "output_type": "display_data"
    }
   ],
   "source": [
    "plot(data_dce[:,-1,-1],'k.-')\n",
    "title('example tissue signal curve')"
   ]
  },
  {
   "cell_type": "markdown",
   "metadata": {},
   "source": [
    "## 2. Derive the AIF ##"
   ]
  },
  {
   "cell_type": "code",
   "execution_count": 8,
   "metadata": {},
   "outputs": [
    {
     "name": "stdout",
     "output_type": "stream",
     "text": [
      "converting DCE signal to effective R1\n",
      "converting effective R1 to tracer tissue concentration\n"
     ]
    }
   ],
   "source": [
    "# turn Sb into Cp\n",
    "T1p = 1.440\n",
    "R1p = 1 / T1p\n",
    "Hct = 0.45\n",
    "S0 = data_aif[:4].mean()\n",
    "R1_eff_aif = dcemri.dce_to_r1eff(data_aif, S0, R1p, TR, flip_angle)\n",
    "Cb = dcemri.r1eff_to_conc(R1_eff_aif.flatten(), R1p, Rel)  \n",
    "Cp = Cb.flatten() / (1.0 - Hct)"
   ]
  },
  {
   "cell_type": "code",
   "execution_count": 9,
   "metadata": {},
   "outputs": [
    {
     "data": {
      "image/png": "[encoded data removed]",
      "text/plain": [
       "<matplotlib.figure.Figure at 0x7fe7ab7409e8>"
      ]
     },
     "metadata": {},
     "output_type": "display_data"
    }
   ],
   "source": [
    "if plotting:\n",
    "    figure(1)\n",
    "    clf()\n",
    "    plot(t, Cp, 'k.-')\n",
    "    xlabel('time (s)')\n",
    "    ylabel('$C_p$ (mM)')\n",
    "    title('derived AIF')\n",
    "    savefig('qiba/qiba_v6_aif.pdf')"
   ]
  },
  {
   "cell_type": "markdown",
   "metadata": {},
   "source": [
    "## 3. Reduce the problem size averaging 10x10 ROIs to single pixels. ##"
   ]
  },
  {
   "cell_type": "code",
   "execution_count": 10,
   "metadata": {},
   "outputs": [],
   "source": [
    "data_dce = transpose(data_dce, (1,2,0)).copy('C')\n",
    "nxx = 6\n",
    "nyy = 5\n",
    "data_dce_red = zeros((nxx, nyy, nt))\n",
    "t1_map_red = zeros((nxx, nyy))\n",
    "s0_map_red = zeros((nxx, nyy))\n",
    "for x in range(nxx):\n",
    "    for y in range(nyy):\n",
    "        tmp = data_dce[10*x:10*(x+1), 10*y:10*(y+1), :]\n",
    "        data_dce_red[x,y,:] = mean(mean(tmp, axis=0), axis=0)\n",
    "        tmp = T1map[10*x:10*(x+1), 10*y:10*(y+1)]\n",
    "        t1_map_red[x,y] = mean(tmp)\n",
    "data_dce = data_dce_red\n",
    "T1map = t1_map_red\n",
    "nx = nxx\n",
    "ny = nyy"
   ]
  },
  {
   "cell_type": "markdown",
   "metadata": {},
   "source": [
    "## 4. Convert signal to tissue concentration $C_t$ ##"
   ]
  },
  {
   "cell_type": "code",
   "execution_count": 11,
   "metadata": {},
   "outputs": [],
   "source": [
    "R1map = 1.0 / T1map"
   ]
  },
  {
   "cell_type": "code",
   "execution_count": 13,
   "metadata": {},
   "outputs": [
    {
     "name": "stdout",
     "output_type": "stream",
     "text": [
      "converting DCE signal to effective R1\n"
     ]
    }
   ],
   "source": [
    "data_dce = reshape(data_dce, (nx, ny, nt))\n",
    "S0 = data_dce[:,:,:4].mean(axis=2)\n",
    "R1_eff = dcemri.dce_to_r1eff(data_dce, S0, R1map.T, TR, flip_angle)\n",
    "data_dce = reshape(data_dce, (-1, nt))\n",
    "R1_eff_old = dcemri.dce_to_r1eff_old(data_dce, S0map, list(range(nx*ny)), TR, flip_angle)\n",
    "data_dce = reshape(data_dce, (nx, ny, nt))\n",
    "R1_eff_old = reshape(R1_eff_old, (nx, ny, nt))"
   ]
  },
  {
   "cell_type": "code",
   "execution_count": 14,
   "metadata": {},
   "outputs": [
    {
     "data": {
      "text/plain": [
       "(6, 5, 661)"
      ]
     },
     "execution_count": 14,
     "metadata": {},
     "output_type": "execute_result"
    }
   ],
   "source": [
    "R1_eff_old.shape"
   ]
  },
  {
   "cell_type": "code",
   "execution_count": 15,
   "metadata": {},
   "outputs": [
    {
     "data": {
      "image/png": "[encoded data removed]",
      "text/plain": [
       "<matplotlib.figure.Figure at 0x7fe797129748>"
      ]
     },
     "metadata": {},
     "output_type": "display_data"
    },
    {
     "data": {
      "image/png": "[encoded data removed]",
      "text/plain": [
       "<matplotlib.figure.Figure at 0x7fe796d4c940>"
      ]
     },
     "metadata": {},
     "output_type": "display_data"
    }
   ],
   "source": [
    "# show map of R1_eff \n",
    "R1_eff = reshape(R1_eff, (nx, ny, nt))\n",
    "if plotting:\n",
    "    figure(7)\n",
    "    clf()\n",
    "    imshow(mosaic(R1_eff.max(axis=2)), interpolation='nearest', cmap='cubehelix3')\n",
    "    title('max $R_1(t) (s^{-1})$')\n",
    "    xlabel('ro')\n",
    "    ylabel('pe')\n",
    "    colorbar()\n",
    "    figure(8)\n",
    "    clf()\n",
    "    imshow(mosaic(R1_eff_old.max(axis=2)), interpolation='nearest', cmap='cubehelix3')\n",
    "    title('max $R_1(t) (s^{-1})$ old method')\n",
    "    xlabel('ro')\n",
    "    ylabel('pe')\n",
    "    colorbar()"
   ]
  },
  {
   "cell_type": "code",
   "execution_count": 16,
   "metadata": {},
   "outputs": [
    {
     "name": "stdout",
     "output_type": "stream",
     "text": [
      "converting effective R1 to tracer tissue concentration\n"
     ]
    }
   ],
   "source": [
    "# convert effecitve R1 to tissue concentration Ct\n",
    "Ct = dcemri.r1eff_to_conc(transpose(R1_eff, (2,0,1)), R1map, Rel)\n",
    "Ct = transpose(Ct, (1,2,0))"
   ]
  },
  {
   "cell_type": "code",
   "execution_count": 17,
   "metadata": {},
   "outputs": [
    {
     "data": {
      "image/png": "[encoded data removed]",
      "text/plain": [
       "<matplotlib.figure.Figure at 0x7fe796cf2860>"
      ]
     },
     "metadata": {},
     "output_type": "display_data"
    }
   ],
   "source": [
    "# show map of Ct\n",
    "Ct = reshape(Ct, (nx, ny, nt))\n",
    "if plotting:\n",
    "    figure(9)\n",
    "    clf()\n",
    "    imshow(Ct.max(axis=2), interpolation='nearest', cmap='cubehelix3')\n",
    "    title('max $C_t$ [mM Gd-DTPA]')\n",
    "    colorbar()\n",
    "    savefig('qiba/qiba_v6_Ct.pdf')\n",
    "Ct = reshape(Ct, (-1, nt))"
   ]
  },
  {
   "cell_type": "markdown",
   "metadata": {},
   "source": [
    "## 5. Fit voxel-wise Ct to the model to get $K^{trans}$ and $v_e$. ##"
   ]
  },
  {
   "cell_type": "code",
   "execution_count": 18,
   "metadata": {},
   "outputs": [
    {
     "name": "stdout",
     "output_type": "stream",
     "text": [
      "fitting perfusion parameters\n",
      "using Standard Tofts-Kety\n",
      "fitting 30 voxels\n",
      "10% complete, 32 of 35 s remain\n",
      "20% complete, 31 of 39 s remain\n",
      "30% complete, 27 of 39 s remain\n",
      "40% complete, 22 of 38 s remain\n",
      "50% complete, 19 of 38 s remain\n",
      "60% complete, 14 of 36 s remain\n",
      "70% complete, 11 of 36 s remain\n",
      "80% complete, 7 of 36 s remain\n",
      "90% complete, 3 of 35 s remain\n",
      "100% complete, 0 of 35 s remain\n",
      "35.27979493141174 s elapsed\n"
     ]
    }
   ],
   "source": [
    "params, covs =  dcemri.fit_tofts_model(Ct, Cp, t, extended=False)"
   ]
  },
  {
   "cell_type": "code",
   "execution_count": 20,
   "metadata": {},
   "outputs": [],
   "source": [
    "Kt = zeros(nx*ny)\n",
    "idxs_dce = range(nx*ny)\n",
    "Kt[idxs_dce] = params[0]\n",
    "ve = zeros(nx*ny)\n",
    "ve[idxs_dce] = params[1]\n",
    "Kt = reshape(Kt, (nx, ny))\n",
    "ve = reshape(ve, (nx, ny))"
   ]
  },
  {
   "cell_type": "code",
   "execution_count": 21,
   "metadata": {},
   "outputs": [],
   "source": [
    "# convert Kt to min$^{-1}$\n",
    "Kt = Kt * 60.0"
   ]
  },
  {
   "cell_type": "code",
   "execution_count": 22,
   "metadata": {},
   "outputs": [
    {
     "data": {
      "image/png": "[encoded data removed]",
      "text/plain": [
       "<matplotlib.figure.Figure at 0x7fe796ba3b70>"
      ]
     },
     "metadata": {},
     "output_type": "display_data"
    },
    {
     "data": {
      "image/png": "[encoded data removed]",
      "text/plain": [
       "<matplotlib.figure.Figure at 0x7fe796ac7240>"
      ]
     },
     "metadata": {},
     "output_type": "display_data"
    }
   ],
   "source": [
    "# PLOT RESULTS\n",
    "if plotting:\n",
    "    figure(13)\n",
    "    clf()\n",
    "    imshow(Kt, interpolation='nearest', cmap='cubehelix3', vmin=0, vmax=0.35)\n",
    "    #plot(Kt.T,'o-')\n",
    "    colorbar()\n",
    "    title('$K^{trans}$ (min$^{-1}$)')\n",
    "    savefig('qiba/qiba_v6_Kt.pdf')\n",
    "\n",
    "    figure(14)\n",
    "    clf()\n",
    "    imshow(ve, interpolation='nearest', cmap='cubehelix3', vmin=0, vmax=0.5)\n",
    "    #plot(ve,'o-')\n",
    "    title('$v_e$')\n",
    "    colorbar()\n",
    "    savefig('qiba/qiba_v6_ve.pdf')"
   ]
  },
  {
   "cell_type": "code",
   "execution_count": 23,
   "metadata": {},
   "outputs": [],
   "source": [
    "Kt_truth = array([0.01, 0.02, 0.05, 0.1, 0.2, 0.35])\n",
    "ve_truth = array([0.01, 0.05, 0.1, 0.2, 0.5])\n",
    "Kt_error = ((Kt.T - Kt_truth) / Kt.T).T\n",
    "ve_error = (ve - ve_truth) / ve"
   ]
  },
  {
   "cell_type": "code",
   "execution_count": 24,
   "metadata": {},
   "outputs": [
    {
     "data": {
      "image/png": "[encoded data removed]",
      "text/plain": [
       "<matplotlib.figure.Figure at 0x7fe7970e0e48>"
      ]
     },
     "metadata": {},
     "output_type": "display_data"
    },
    {
     "data": {
      "image/png": "[encoded data removed]",
      "text/plain": [
       "<matplotlib.figure.Figure at 0x7fe796ac7080>"
      ]
     },
     "metadata": {},
     "output_type": "display_data"
    }
   ],
   "source": [
    "if plotting:\n",
    "    figure(10)\n",
    "    imshow(Kt_error, interpolation='nearest', cmap='bwr', vmin=-0.02, vmax=0.02)\n",
    "    title('relative error in $K^{trans}$')\n",
    "    colorbar()\n",
    "    savefig('qiba/qiba_v6_error_Kt.pdf')\n",
    "\n",
    "    \n",
    "    figure(11)\n",
    "    imshow(ve_error, interpolation='nearest', cmap='bwr', vmin=-0.01, vmax=0.01)\n",
    "    title('relative error in $v_e$')\n",
    "    colorbar()\n",
    "    savefig('qiba/qiba_v6_error_ve.pdf')"
   ]
  },
  {
   "cell_type": "code",
   "execution_count": 26,
   "metadata": {},
   "outputs": [
    {
     "name": "stdout",
     "output_type": "stream",
     "text": [
      "rms relative error in Kt: 0.0149482687443\n",
      "rms relative error in ve: 0.00435305568822\n"
     ]
    }
   ],
   "source": [
    "# mean relative error\n",
    "print ('rms relative error in Kt:', sqrt((Kt_error**2).mean()))\n",
    "print ('rms relative error in ve:', sqrt((ve_error**2).mean()))"
   ]
  },
  {
   "cell_type": "code",
   "execution_count": null,
   "metadata": {},
   "outputs": [],
   "source": []
  }
 ],
 "metadata": {
  "kernelspec": {
   "display_name": "Python 3",
   "language": "python",
   "name": "python3"
  },
  "language_info": {
   "codemirror_mode": {
    "name": "ipython",
    "version": 3
   },
   "file_extension": ".py",
   "mimetype": "text/x-python",
   "name": "python",
   "nbconvert_exporter": "python",
   "pygments_lexer": "ipython3",
   "version": "3.6.3"
  }
 },
 "nbformat": 4,
 "nbformat_minor": 1
}
