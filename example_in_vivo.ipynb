{
 "cells": [
  {
   "cell_type": "markdown",
   "metadata": {},
   "source": [
    "## 0. Scan Parameters and Initialization ##"
   ]
  },
  {
   "cell_type": "code",
   "execution_count": 1,
   "metadata": {},
   "outputs": [
    {
     "name": "stdout",
     "output_type": "stream",
     "text": [
      "Using matplotlib backend: MacOSX\n",
      "Populating the interactive namespace from numpy and matplotlib\n"
     ]
    }
   ],
   "source": [
    "%pylab"
   ]
  },
  {
   "cell_type": "code",
   "execution_count": 44,
   "metadata": {},
   "outputs": [],
   "source": [
    "from scipy.io import loadmat, savemat\n",
    "from util import mosaic, qimshow, status_check\n",
    "import matplotlib.pyplot as plt\n",
    "from numpy.ma import masked_array\n",
    "from skimage.filter import threshold_otsu\n",
    "import time\n",
    "import dcemri\n",
    "\n",
    "# SCRIPT FLAGS\n",
    "plotting = True\n",
    "\n",
    "# SCAN PARAMETERS\n",
    "flip = pi * 20.0  / 180.0 # deg\n",
    "TR = 7.939e-3   # s\n",
    "TE = 4.6e-3 # s\n",
    "Rel = 4.5   # Relaxivity of Gd-DTPA at 3T [ms^-1 [mmol Gd-DTPA]^{-1}]   \n",
    "scan_time = 16.42   # s\n",
    "SNR = 15.0   # assumed for now, but can measure"
   ]
  },
  {
   "cell_type": "code",
   "execution_count": 45,
   "metadata": {},
   "outputs": [],
   "source": [
    "mpl.cm.register_cmap(name='cubehelix3', data=mpl._cm.cubehelix(gamma=1.0, s=0.4, r=-0.5, h=1.5))"
   ]
  },
  {
   "cell_type": "markdown",
   "metadata": {},
   "source": [
    "## 1. Load population-averaged arterial input function (AIF) ##"
   ]
  },
  {
   "cell_type": "code",
   "execution_count": 46,
   "metadata": {},
   "outputs": [],
   "source": [
    "mat = loadmat('invivo/AIF.mat')\n",
    "y_aif = mat['data'].flatten()\n",
    "t_aif = mat['t'].flatten() / 60.0"
   ]
  },
  {
   "cell_type": "code",
   "execution_count": 47,
   "metadata": {},
   "outputs": [],
   "source": [
    "if plotting:\n",
    "    figure(1)\n",
    "    clf()\n",
    "    plot(t_aif, y_aif, 'ko-')\n",
    "    xlabel('time (min)')\n",
    "    ylabel('[Gd-DTPA] (mM)')\n",
    "    title('arterial input function')\n",
    "    savefig('invivo/aif.pdf')"
   ]
  },
  {
   "cell_type": "markdown",
   "metadata": {},
   "source": [
    "## Load DCE and T1 multiflip data ##"
   ]
  },
  {
   "cell_type": "code",
   "execution_count": 48,
   "metadata": {},
   "outputs": [],
   "source": [
    "mat = loadmat('invivo/data_t1.mat')\n",
    "data_t1 = mat['data']\n",
    "t1_flip_angles = mat['flip']\n",
    "mat = loadmat('invivo/data_dce.mat')\n",
    "data_dce = mat['data']\n",
    "t_dce = mat['t']\n",
    "nx, ny, nt = data_dce.shape"
   ]
  },
  {
   "cell_type": "code",
   "execution_count": 49,
   "metadata": {},
   "outputs": [],
   "source": [
    "mat = loadmat('invivo/mask.mat')\n",
    "mask = mat['mask']"
   ]
  },
  {
   "cell_type": "code",
   "execution_count": 50,
   "metadata": {},
   "outputs": [],
   "source": [
    "if plotting:\n",
    "    figure(2)\n",
    "    clf()\n",
    "    imshow(mosaic(transpose(data_dce,(2,0,1))), interpolation='nearest', cmap='gray')\n",
    "    colorbar()\n",
    "    title('DCE data')\n",
    "    savefig('invivo/dcedata.pdf')"
   ]
  },
  {
   "cell_type": "code",
   "execution_count": 51,
   "metadata": {},
   "outputs": [
    {
     "name": "stdout",
     "output_type": "stream",
     "text": [
      "computing signal-to-noise ratio\n",
      "DCE SNR: 6.2\n"
     ]
    }
   ],
   "source": [
    "#snr_mask = data_dce[:,:,0] > 1e-2 * data_dce.max()\n",
    "SNR, snr_mask = dcemri.signal_to_noise_ratio(data_dce[:,:,0], data_dce[:,:,1])\n",
    "print 'DCE SNR: %.1f' % SNR\n",
    "mask_dce = data_dce[:,:,0] > (1.0 / SNR)*data_dce.max()"
   ]
  },
  {
   "cell_type": "code",
   "execution_count": 52,
   "metadata": {},
   "outputs": [
    {
     "name": "stdout",
     "output_type": "stream",
     "text": [
      "computing signal enhancement ratios\n"
     ]
    }
   ],
   "source": [
    "SER = reshape(dcemri.signal_enhancement_ratio(data_dce), (nx, ny))"
   ]
  },
  {
   "cell_type": "code",
   "execution_count": 53,
   "metadata": {},
   "outputs": [],
   "source": [
    "if plotting:\n",
    "    figure(3)\n",
    "    clf()\n",
    "    imshow(SER, interpolation='nearest', cmap='spectral', vmax=10)\n",
    "    colorbar()\n",
    "    title('signal enhancement ratio')\n",
    "    xlabel('ro')\n",
    "    ylabel('pe')\n",
    "    savefig('invivo/ser.pdf')"
   ]
  },
  {
   "cell_type": "code",
   "execution_count": 54,
   "metadata": {},
   "outputs": [],
   "source": [
    "nt = data_dce.shape[-1]\n",
    "data_dce = reshape(data_dce, (-1, nt))\n",
    "nx, ny, nflip = data_t1.shape\n",
    "data_t1 = reshape(data_t1, (nx*ny, nflip))\n",
    "# Time vector for DCE data in minutes\n",
    "t_dce = arange(nt)*scan_time / 60.0"
   ]
  },
  {
   "cell_type": "code",
   "execution_count": 55,
   "metadata": {},
   "outputs": [],
   "source": [
    "if plotting:\n",
    "    figure(4)\n",
    "    imshow(mask, interpolation='nearest', cmap='gray')\n",
    "    title('mask')\n",
    "    savefig('invivo/mask.pdf')"
   ]
  },
  {
   "cell_type": "markdown",
   "metadata": {},
   "source": [
    "## Make a T1 map ##"
   ]
  },
  {
   "cell_type": "code",
   "execution_count": 56,
   "metadata": {},
   "outputs": [],
   "source": [
    "dcemri = reload(dcemri)\n",
    "t1_flip_angles = pi*arange(20,0,-2)/180.0\n",
    "R1map, S0map, covmap = dcemri.fit_R1(data_t1, t1_flip_angles, TR) "
   ]
  },
  {
   "cell_type": "code",
   "execution_count": 57,
   "metadata": {},
   "outputs": [],
   "source": [
    "covmap = reshape(covmap, (nx, ny, 4))"
   ]
  },
  {
   "cell_type": "code",
   "execution_count": 58,
   "metadata": {},
   "outputs": [],
   "source": [
    "# create a processing mask from the T1 map\n",
    "r1mask = logical_and(R1map < 10, R1map > 0).flatten() \n",
    "R1map[~r1mask] = 0"
   ]
  },
  {
   "cell_type": "code",
   "execution_count": 67,
   "metadata": {},
   "outputs": [],
   "source": [
    "if plotting:\n",
    "    figure(4)\n",
    "    clf()\n",
    "    title('$R_1 (s^{-1})$')\n",
    "    imshow(reshape(R1map, (nx, ny)), interpolation='nearest', cmap='spectral', vmax=10)\n",
    "    xlabel('ro')\n",
    "    ylabel('pe')\n",
    "    colorbar()\n",
    "    savefig('invivo/r1map.pdf')"
   ]
  },
  {
   "cell_type": "code",
   "execution_count": 60,
   "metadata": {},
   "outputs": [],
   "source": [
    "if plotting:\n",
    "    figure(5)\n",
    "    clf()\n",
    "    imshow((sqrt(covmap[:,:,3])), interpolation='nearest', cmap='spectral', vmax=1)\n",
    "    title('$\\sigma_{R1}$')\n",
    "    xlabel('ro')\n",
    "    ylabel('pe')\n",
    "    colorbar()\n",
    "    savefig('invivo/sigmar1.pdf')"
   ]
  },
  {
   "cell_type": "code",
   "execution_count": 65,
   "metadata": {},
   "outputs": [],
   "source": [
    "if plotting:\n",
    "    figure(6)\n",
    "    clf()\n",
    "    imshow(reshape(S0map, (nx, ny)), interpolation='nearest', cmap='gray', vmax = mean(S0map) + 3*std(S0map))\n",
    "    title('$S_0$')\n",
    "    xlabel('ro')\n",
    "    ylabel('pe')\n",
    "    colorbar()\n",
    "    savefig('invivo/s0map.pdf')"
   ]
  },
  {
   "cell_type": "markdown",
   "metadata": {},
   "source": [
    "## Convert DCE data to tissue concentration $C_t$ ##"
   ]
  },
  {
   "cell_type": "code",
   "execution_count": 62,
   "metadata": {},
   "outputs": [],
   "source": [
    "mask.shape\n",
    "idxs = find(mask.flatten())\n",
    "idxs = range(nx*ny)"
   ]
  },
  {
   "cell_type": "code",
   "execution_count": 63,
   "metadata": {},
   "outputs": [
    {
     "name": "stdout",
     "output_type": "stream",
     "text": [
      "converting DCE signal to effective R1\n"
     ]
    }
   ],
   "source": [
    "dcemri = reload(dcemri)\n",
    "S0 = data_dce[:,:5].mean()\n",
    "R1_eff = dcemri.dce_to_r1eff(data_dce, S0, R1map.flatten(), TR, flip)\n",
    "data_dce = reshape(data_dce, (-1, nt))\n",
    "R1_eff_old = dcemri.dce_to_r1eff_old(data_dce, S0map.flatten(), idxs, TR, flip)\n",
    "data_dce = reshape(data_dce, (nx, ny, nt))"
   ]
  },
  {
   "cell_type": "code",
   "execution_count": 68,
   "metadata": {},
   "outputs": [],
   "source": [
    "# show map of R1_eff \n",
    "R1_eff = reshape(R1_eff, (nx, ny, nt))\n",
    "R1_eff_old = reshape(R1_eff_old, (nx, ny, nt))\n",
    "if plotting:\n",
    "    figure(7)\n",
    "    clf()\n",
    "    subplot(211)\n",
    "    imshow(mosaic(R1_eff[:,:,-1]), interpolation='nearest', cmap='spectral', vmin=0, vmax=10)\n",
    "    title('$R_1(t)$')\n",
    "    xlabel('ro')\n",
    "    ylabel('pe')\n",
    "    colorbar()\n",
    "    subplot(212)\n",
    "    imshow(mosaic(R1_eff_old[:,:,-1]), interpolation='nearest', cmap='spectral', vmin=0, vmax=10)\n",
    "    title('$R_1(t)$ old method')\n",
    "    xlabel('ro')\n",
    "    ylabel('pe')\n",
    "    colorbar()\n",
    "    R1_eff = reshape(R1_eff, (-1, nt))\n",
    "    R1_eff_old = reshape(R1_eff_old, (-1, nt))"
   ]
  },
  {
   "cell_type": "code",
   "execution_count": 73,
   "metadata": {},
   "outputs": [
    {
     "name": "stdout",
     "output_type": "stream",
     "text": [
      "converting effective R1 to tracer tissue concentration\n"
     ]
    },
    {
     "data": {
      "text/plain": [
       "(36864, 25)"
      ]
     },
     "execution_count": 73,
     "metadata": {},
     "output_type": "execute_result"
    }
   ],
   "source": [
    "# convert effecitve R1 to tissue concentration Ct\n",
    "#Ct = ((R1_eff.T - R1map.flatten()).T) / Rel\n",
    "Ct = dcemri.r1eff_to_conc(R1_eff_old.T, R1map, Rel).T\n",
    "Ct.shape"
   ]
  },
  {
   "cell_type": "code",
   "execution_count": 74,
   "metadata": {},
   "outputs": [],
   "source": [
    "# show map of Ct\n",
    "Ct = reshape(Ct, (nx, ny, nt))\n",
    "if plotting:\n",
    "    figure(9)\n",
    "    clf()\n",
    "    imshow(Ct[:,:,-1], interpolation='nearest', cmap='spectral', vmin=0, vmax=2)\n",
    "    title('$C_t$ [mmol Gd-DTPA]')\n",
    "    colorbar()\n",
    "    savefig('invivo/Ct.pdf')\n",
    "Ct = reshape(Ct, (-1, nt))"
   ]
  },
  {
   "cell_type": "markdown",
   "metadata": {},
   "source": [
    "## Fit voxel-wise $C_t$ to the model to get $K^{trans}$, $v_e$, and $v_p$ ##"
   ]
  },
  {
   "cell_type": "code",
   "execution_count": 84,
   "metadata": {},
   "outputs": [],
   "source": [
    "dcemri = reload(dcemri)"
   ]
  },
  {
   "cell_type": "code",
   "execution_count": 91,
   "metadata": {},
   "outputs": [
    {
     "name": "stdout",
     "output_type": "stream",
     "text": [
      "fitting 733 voxels\n",
      "fitting perfusion parameters\n",
      "using Standard Tofts-Kety\n",
      "fitting 733 voxels\n",
      "10% complete, 73 of 81 s remain\n",
      "20% complete, 65 of 82 s remain\n",
      "30% complete, 51 of 73 s remain\n",
      "40% complete, 42 of 71 s remain\n",
      "50% complete, 35 of 71 s remain\n",
      "60% complete, 27 of 68 s remain\n",
      "70% complete, 19 of 64 s remain\n",
      "80% complete, 12 of 63 s remain\n",
      "90% complete, 6 of 61 s remain\n",
      "100% complete, 0 of 61 s remain\n",
      "61 s elapsed\n"
     ]
    }
   ],
   "source": [
    "mask_dce = zeros((nx, ny))\n",
    "mask = reshape(mask, (nx, ny))\n",
    "mask_dce[90:120, 80:120] = True\n",
    "mask_dce = logical_and(mask, mask_dce) #logical_and(Ct[:,-1] > 0.5, Ct[:,-1] < 0.8)\n",
    "idxs = find(mask_dce)\n",
    "print 'fitting %d voxels' % len(idxs)\n",
    "params, covs = dcemri.fit_tofts_model(Ct, y_aif, t_dce, idxs, extended=False, plot_each_fit=False)"
   ]
  },
  {
   "cell_type": "code",
   "execution_count": 92,
   "metadata": {},
   "outputs": [],
   "source": [
    "#Kt = zeros(nx*ny)\n",
    "#Kt[idxs] = params[0]\n",
    "Kt = params[0]\n",
    "#ve = zeros(nx*ny)\n",
    "#ve[idxs] = params[1]\n",
    "ve = params[1]\n",
    "#Kt_std = zeros(nx*ny)\n",
    "#Kt_std[idxs] = covs[0]\n",
    "Kt_std = covs[0]\n",
    "#ve_std = zeros(nx*ny)\n",
    "#ve_std[idxs] = covs[1]\n",
    "ve_std = covs[1]"
   ]
  },
  {
   "cell_type": "code",
   "execution_count": 93,
   "metadata": {},
   "outputs": [],
   "source": [
    "MAX_COV = 0.1\n",
    "\n",
    "Kt = reshape(Kt, (nx, ny))\n",
    "ve = reshape(ve, (nx, ny))\n",
    "#vp = reshape(vp, (nx, ny))\n",
    "Kt_std = reshape(Kt_std, (nx, ny))\n",
    "ve_std = reshape(ve_std, (nx, ny))\n",
    "#vp_std = reshape(vp_std, (nx, ny))\n",
    "mask_params = logical_or(logical_or(Kt <= 0.0, ve <= 0.0), ve > 1.0)\n",
    "#mask = logical_or(logical_or(logical_or(logical_or(Kt <= 0.0, ve <= 0.0), vp <= 0.0), ve > 1.0), vp > 1.0)\n",
    "#mask_params = ~logical_and(~mask_params, reshape(mask_dce, (nx, ny)))\n",
    "mask_params = logical_or(logical_or(mask_params, ve_std > MAX_COV), Kt_std > MAX_COV)\n",
    "\n",
    "if plotting:\n",
    "    figure(12)\n",
    "    clf()\n",
    "    imshow(~mask_params, interpolation='nearest', cmap='gray')\n",
    "    xlabel('ro')\n",
    "    ylabel('pe')\n",
    "    title('Final ROI')\n",
    "    savefig('mask_dce.pdf')"
   ]
  },
  {
   "cell_type": "code",
   "execution_count": 94,
   "metadata": {},
   "outputs": [
    {
     "data": {
      "text/plain": [
       "(192, 192, 25)"
      ]
     },
     "execution_count": 94,
     "metadata": {},
     "output_type": "execute_result"
    }
   ],
   "source": [
    "data_dce.shape"
   ]
  },
  {
   "cell_type": "code",
   "execution_count": 95,
   "metadata": {},
   "outputs": [],
   "source": [
    "# PLOT DCE RESULTS\n",
    "\n",
    "x = masked_array(reshape(data_dce[:,:,0],(nx,ny)), ~mask_params)\n",
    "\n",
    "figure(13)\n",
    "clf()\n",
    "y = masked_array(Kt, mask_params)\n",
    "imshow(x, interpolation='nearest', cmap='gray')\n",
    "imshow(y, interpolation='nearest', cmap='jet', vmin=0, vmax=1)\n",
    "colorbar()\n",
    "title('$K^{trans}$')\n",
    "savefig('invivo/ktrans.pdf')\n",
    "\n",
    "\n",
    "figure(14)\n",
    "clf()\n",
    "y = masked_array(ve, mask_params)\n",
    "imshow(x, interpolation='nearest', cmap='gray')\n",
    "imshow(y, interpolation='nearest', cmap='jet', vmin=0, vmax=1)\n",
    "title('$v_e$')\n",
    "colorbar()\n",
    "savefig('invivo/ve.pdf')\n",
    "\n",
    "figure(15)\n",
    "clf()\n",
    "y = masked_array(Kt_std, mask_params)\n",
    "imshow(x, interpolation='nearest', cmap='gray')\n",
    "imshow(y, interpolation='nearest', cmap='jet',vmax=MAX_COV)\n",
    "title('$\\sigma(K^{trans})$')\n",
    "colorbar()\n",
    "savefig('invivo/ktrans_std.pdf')\n",
    "\n",
    "figure(16)\n",
    "clf()\n",
    "y = masked_array(ve_std, mask_params)\n",
    "imshow(x, interpolation='nearest', cmap='gray')\n",
    "imshow(y, interpolation='nearest', cmap='jet',vmax=MAX_COV)\n",
    "title('$\\sigma(v_e)$')\n",
    "colorbar()\n",
    "savefig('invivo/ve_std.pdf')\n"
   ]
  },
  {
   "cell_type": "code",
   "execution_count": 96,
   "metadata": {},
   "outputs": [],
   "source": [
    "out_mat = {}\n",
    "out_mat['ve'] = ve\n",
    "out_mat['Kt'] = Kt\n",
    "out_mat['Kt_std'] = Kt_std\n",
    "out_mat['ve_std'] = ve\n",
    "out_mat['mask'] = mask.astype('int')\n",
    "out_mat['R1map'] = reshape(R1map, (nx, ny))\n",
    "out_mat['S0map'] = reshape(S0map, (nx, ny))\n",
    "savemat('invivo/out_trap.mat', out_mat)"
   ]
  },
  {
   "cell_type": "code",
   "execution_count": null,
   "metadata": {},
   "outputs": [],
   "source": []
  }
 ],
 "metadata": {
  "kernelspec": {
   "display_name": "Python 3",
   "language": "python",
   "name": "python3"
  },
  "language_info": {
   "codemirror_mode": {
    "name": "ipython",
    "version": 3
   },
   "file_extension": ".py",
   "mimetype": "text/x-python",
   "name": "python",
   "nbconvert_exporter": "python",
   "pygments_lexer": "ipython3",
   "version": "3.5.2"
  }
 },
 "nbformat": 4,
 "nbformat_minor": 1
}
